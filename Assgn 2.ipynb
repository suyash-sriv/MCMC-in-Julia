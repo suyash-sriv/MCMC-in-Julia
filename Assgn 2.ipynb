{
 "cells": [
  {
   "cell_type": "markdown",
   "id": "65df1b75",
   "metadata": {},
   "source": [
    "# Question 1:\n",
    "\n",
    "It is clear that the algorithm only outputs $0$ or $1$. Hence it suffices to show that it returns 1 with probability $\\lambda$.\n",
    "\n",
    "First, we consider the probability of returning a number without going to step $1$.\n",
    "\n",
    "Since the algorithm returns if one of the two disjoint events $A$ and $B$ occur, where $A$ is $(C_1=1, C_2=1)$ and $B$ is $(C_1 =0, C_2 =1)$. \n",
    "\n",
    "Note that $P(A) = c_x\\cdot p_y$, and $P(B) = c_y\\cdot p_x$, and so $P(return) = P(A ∐ B) = P(A)+P(B) = c_x\\cdot p_y + c_y\\cdot p_x$\n",
    "Now let us calculate \n",
    "$\n",
    "\\begin{equation} \n",
    "\\begin{aligned}[t]\n",
    "P(X=1) &= ∑_{n = 0}^∞ P(\\text{returning to step $1$ $n$ times and then returning $1$)}\\\\\n",
    "&= ∑ _{n = 0}^∞ (1-c)^n c_x p_y\\\\\n",
    "&= c_x p_y/c\\\\\n",
    "\\end{aligned}\n",
    "\\end{equation}\n",
    "$\n",
    "Hence proved\n"
   ]
  },
  {
   "cell_type": "markdown",
   "id": "8215287a",
   "metadata": {},
   "source": [
    "# Question 2\n",
    "\n",
    "Let $g$ be the pdf of the proposal, i.e. the uniform distribution on a $p$-hypercube. Then, for  $R^p ∋ x = (x_1, x_2, ..., x_p)$\n",
    "\n",
    "$g(x) = (∏ I(-1<x_i<1))/(2^p) =  f_U(x_i)$\n",
    "\n",
    "where $f_U$ is the pmf of uniform distribution.\n",
    "Thus $g$ is the product of $p$ $U(-1,1)$ distributions.\n",
    "\n",
    "\n"
   ]
  },
  {
   "cell_type": "markdown",
   "id": "bc50ce44",
   "metadata": {},
   "source": [
    "## Algorithm:\n",
    "\n",
    "\n",
    "1. Draw $U=(U_1, U_2, ..., U_p)$ from $U(-1,1)×U(-1,1)×..p $ times$...×U(-1,1)$,\n",
    "2. If $||U|| < 1$, return $X = U$. Else return to step $1$.\n",
    "\n"
   ]
  },
  {
   "cell_type": "markdown",
   "id": "05604f7d",
   "metadata": {},
   "source": [
    "Let $f$ be the uniform distribution on the unit sphere, $f = Γ (\\frac{p}{2} +1) \\cdot I(||X|| < 1)\\\\ $\n",
    "Then $c = \\frac{f}{g}\\\\ $\n",
    "$ = \\frac{2^p}{Γ(\\frac{p}{2}+1)} \\cdot I(||X||<1)\\\\ $\n",
    "\n",
    "$c = \\frac{2^p}{Γ(\\frac{p}{2}+1)}\\\\ $\n",
    "$\\frac{f}{cg} = \\frac{2^p}{Γ(\\frac{p}{2}+1)} I(||X||<1) \\frac{1}{c}\\\\ $\n",
    "$= I(||X||<1)\\\\ $\n",
    "So the condition,\n",
    "$U(0,1)< \\frac{f}{cg}$ in the CIT can be replaced by \n",
    "$U(0,1) < I(||X||<1)$ which is almost surely (i.e., with probability 1) equivalent to $||X||<1$\n",
    "Note that $f\\le g\\cdot(ϕ(a) - ϕ (-a))$\n",
    "and $\\frac{f}{g} =(ϕ(a) - ϕ (-a))$ for $x =0$\n",
    "So $c=sup \\frac{f}{g} =(ϕ(a) - ϕ (-a))$\n",
    "Also $h(x) = \\frac{f(x)}{(c\\cdot g(x))} = \\frac{(ϕ(a) - ϕ (-a)) I(-a<x<a)}{c} = I(-a<x<a)$\n",
    "Thus the condition $U<h$ can be replaced by $U<I(-a<x<a)$ which is equivalent almost everywhere to $-a<x<a$.\n",
    "Thus we get the following\n",
    "## Algorithm:\n",
    "1. Draw $U$ ~ $U(0,1)$\n",
    "2. Draw $Y$ ~ $N(0,1)$\n",
    "3. If $(-a < x < -a)$, return $X = Y$. Else go to step $1$.\n",
    "\n",
    "The difference is that c is larger for $a = 4$ and smaller for $a = 1$\n",
    "Thus the algorithms takes less iterations to return a value for $a=1$ than for $a=4$\n",
    "(Since number of iterations is $Geom(\\frac{1}{c})$, which has expectation $c$)"
   ]
  },
  {
   "cell_type": "code",
   "execution_count": null,
   "id": "463a9786",
   "metadata": {},
   "outputs": [],
   "source": []
  },
  {
   "cell_type": "code",
   "execution_count": null,
   "id": "4b2864fa",
   "metadata": {},
   "outputs": [],
   "source": []
  }
 ],
 "metadata": {
  "kernelspec": {
   "display_name": "Python 3 (ipykernel)",
   "language": "python",
   "name": "python3"
  },
  "language_info": {
   "codemirror_mode": {
    "name": "ipython",
    "version": 3
   },
   "file_extension": ".py",
   "mimetype": "text/x-python",
   "name": "python",
   "nbconvert_exporter": "python",
   "pygments_lexer": "ipython3",
   "version": "3.9.12"
  }
 },
 "nbformat": 4,
 "nbformat_minor": 5
}
