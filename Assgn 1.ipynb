{
 "cells": [
  {
   "cell_type": "code",
   "execution_count": 2,
   "id": "443e4350",
   "metadata": {},
   "outputs": [],
   "source": [
    "using Distributions\n",
    "using Random\n",
    "using Plots"
   ]
  },
  {
   "cell_type": "code",
   "execution_count": 10,
   "id": "2b67eb3f",
   "metadata": {},
   "outputs": [
    {
     "data": {
      "text/plain": [
       "auxillary_discrete_inverse_transform (generic function with 2 methods)"
      ]
     },
     "execution_count": 10,
     "metadata": {},
     "output_type": "execute_result"
    }
   ],
   "source": [
    "function auxillary_discrete_inverse_transform(masses, pmf)\n",
    "    a = rand()\n",
    "    l = length(pmf)\n",
    "    for i in 1:l\n",
    "        a = a - pmf[i]\n",
    "        if a <= 0\n",
    "            return x[i]\n",
    "        end\n",
    "    end\n",
    "end"
   ]
  },
  {
   "cell_type": "code",
   "execution_count": 4,
   "id": "fb30c8cf",
   "metadata": {},
   "outputs": [
    {
     "data": {
      "text/plain": [
       "DIT_poisson (generic function with 1 method)"
      ]
     },
     "execution_count": 4,
     "metadata": {},
     "output_type": "execute_result"
    }
   ],
   "source": [
    "function DIT_poisson(lambda)\n",
    "    a = rand()\n",
    "    k = ℯ^(-lambda)\n",
    "    i = 0\n",
    "    while true\n",
    "        a = a - k\n",
    "        if (a <= 0)\n",
    "            return i\n",
    "        end\n",
    "        i = i + 1\n",
    "        k *= lambda / i\n",
    "    end\n",
    "end"
   ]
  },
  {
   "cell_type": "code",
   "execution_count": 5,
   "id": "4e796137",
   "metadata": {},
   "outputs": [
    {
     "data": {
      "text/plain": [
       "binomial_array (generic function with 1 method)"
      ]
     },
     "execution_count": 5,
     "metadata": {},
     "output_type": "execute_result"
    }
   ],
   "source": [
    "function binomial_array(n, p)\n",
    "    a = zeros(n + 1)\n",
    "    t = (1 - p)^n\n",
    "    for j ∈ 0:n\n",
    "        a[j+1] = t\n",
    "        t *= (n-j)/(j+1) * (p/(1-p))\n",
    "    end\n",
    "    return a\n",
    "end       "
   ]
  },
  {
   "cell_type": "code",
   "execution_count": 6,
   "id": "643e99ad",
   "metadata": {},
   "outputs": [
    {
     "data": {
      "text/plain": [
       "poisson_array (generic function with 1 method)"
      ]
     },
     "execution_count": 6,
     "metadata": {},
     "output_type": "execute_result"
    }
   ],
   "source": [
    "function poisson_array(lambda, n)\n",
    "    a = zeros(n+1)\n",
    "    k = ℯ^(-lambda)\n",
    "    for i ∈ 1:(n+1)\n",
    "        a[i] = k\n",
    "        k = k*lambda/i\n",
    "    end\n",
    "    return a\n",
    "end"
   ]
  },
  {
   "cell_type": "code",
   "execution_count": 8,
   "id": "b61d2517",
   "metadata": {},
   "outputs": [
    {
     "data": {
      "text/plain": [
       "accept_reject (generic function with 1 method)"
      ]
     },
     "execution_count": 8,
     "metadata": {},
     "output_type": "execute_result"
    }
   ],
   "source": [
    "function accept_reject(n, p)\n",
    "    lambda = n * p\n",
    "    c = ℯ^(n*p)*(1-p)\n",
    "    bin_arr = binomial_array(n, p)\n",
    "    poi_arr = poisson_array(lambda, n)\n",
    "    discrete_accept_reject(bin_arr, poi_arr, n, c, lambda)\n",
    "end"
   ]
  },
  {
   "cell_type": "code",
   "execution_count": 9,
   "id": "db1928fa",
   "metadata": {},
   "outputs": [
    {
     "data": {
      "text/plain": [
       "discrete_accept_reject (generic function with 1 method)"
      ]
     },
     "execution_count": 9,
     "metadata": {},
     "output_type": "execute_result"
    }
   ],
   "source": [
    "function discrete_accept_reject(proposal_arr, target_arr, len, c, lambda)\n",
    "    U = rand()\n",
    "    Y = DIT_poisson(lambda)\n",
    "    if (Y <= len)\n",
    "        if (U < P[Y+1]/(c*Q[Y+1]))\n",
    "            return Y\n",
    "        end\n",
    "    end\n",
    "    return discrete_accept_reject(proposal_arr, target_arr, len, c, lambda)\n",
    "end\n"
   ]
  },
  {
   "cell_type": "code",
   "execution_count": null,
   "id": "de78a3e1",
   "metadata": {},
   "outputs": [],
   "source": []
  }
 ],
 "metadata": {
  "kernelspec": {
   "display_name": "Julia 1.7.2",
   "language": "julia",
   "name": "julia-1.7"
  },
  "language_info": {
   "file_extension": ".jl",
   "mimetype": "application/julia",
   "name": "julia",
   "version": "1.7.2"
  }
 },
 "nbformat": 4,
 "nbformat_minor": 5
}
